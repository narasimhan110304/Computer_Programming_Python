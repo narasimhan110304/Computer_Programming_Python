{
  "nbformat": 4,
  "nbformat_minor": 0,
  "metadata": {
    "colab": {
      "name": "File_handling_Python.ipynb",
      "provenance": [],
      "collapsed_sections": []
    },
    "kernelspec": {
      "name": "python3",
      "display_name": "Python 3"
    },
    "language_info": {
      "name": "python"
    }
  },
  "cells": [
    {
      "cell_type": "markdown",
      "metadata": {
        "id": "Uu-DorrkcYDq"
      },
      "source": [
        "# Python File Handling: How to Create Text File, Read, Write, Open, Append Files in Python\n",
        "*  In Python, there is no need for importing external library to read and write files. Python provides an inbuilt function for creating, writing, and reading files."
      ]
    },
    {
      "cell_type": "markdown",
      "metadata": {
        "id": "y3HNDUCKcvvu"
      },
      "source": [
        "In this file handling in Python session, we will learn:\n",
        "\n",
        "    * How to Open a Text File in Python\n",
        "    * How to Create a Text File in Python\n",
        "    * How to Append to a File in Python\n",
        "    * How to Read Files in Python\n",
        "    * How to Read a File line by line in Python\n",
        "    * File Modes in Python\n",
        "\n",
        "# How to Open a Text File in Python\n",
        "\n",
        "To open a file, you need to use the built-in open function. The Python file open function returns a file object that contains methods and attributes to perform various operations for opening files in Python.\n",
        "\n",
        " **Syntax of Python open file function\n",
        "\n",
        "file_object  = open(\"filename\", \"mode\")**\n",
        "\n",
        "Here,\n",
        "    filename: gives name of the file that the file object has opened.\n",
        "    mode: attribute of a file object tells you which mode a file was opened in.\n"
      ]
    },
    {
      "cell_type": "markdown",
      "metadata": {
        "id": "o1NwCvpWhCVo"
      },
      "source": [
        "# File Modes in Python\n",
        "\n",
        "Following are the various File Modes in Python:\n",
        "\n",
        "Mode \tDescription\n",
        "*  ‘r’ \tThis is the default mode. It Opens file for reading.\n",
        "\n",
        "*  ‘w’ \tThis Mode Opens file for writing.\n",
        "If file does not exist, it creates a new file.\n",
        "If file exists it truncates the file.\n",
        "\n",
        "*  ‘x’ \tCreates a new file. If file already exists, the operation fails.\n",
        "\n",
        "*  ‘a’ \tOpen file in append mode.\n",
        "If file does not exist, it creates a new file.\n",
        "\n",
        "*  ‘t’ \tThis is the default mode. It opens in text mode.\n",
        "\n",
        "*  ‘b’ \tThis opens in binary mode.\n",
        "\n",
        "*   ‘+’ \tThis will open a file for reading and writing (updating)"
      ]
    },
    {
      "cell_type": "markdown",
      "metadata": {
        "id": "_5vExgo1dXuT"
      },
      "source": [
        "# How to Create a Text File in Python\n",
        "\n",
        "With Write to file Python, you can create a .text files (file1.txt) by using the code, we have demonstrated here:\n",
        "\n",
        "*  Step 1) Open the .txt file\n",
        "\n",
        "     f= open(\"file1.txt\",\"w+\")\n",
        "\n",
        "    We declared the variable f to open a file named file1.txt. Open takes 2 arguments, the file that we want to open and a string that represents the kinds of permission or operation we want to do on the file\n",
        "    Here, we used “w” letter in our argument, which indicates Python write to file and it will create file in Python if it does not exist in library\n",
        "    Plus sign indicates both read and write for Python create file operation.\n",
        "\n",
        "*  Step 2) Enter data into the file\n",
        "\n",
        "for i in range(10):\n",
        "     f.write(\"This is line %d\\r\\n\" % (i+1))\n",
        "\n",
        "    We have a for loop that runs over a range of 10 numbers.\n",
        "    Using the write function to enter data into the file.\n",
        "    The output we want to iterate in the file is “this is line number”, which we declare with Python write file function and then percent d (displays integer)\n",
        "    So basically we are putting in the line number that we are writing, then putting it in a carriage return and a new line character\n",
        "\n",
        "*  Step 3) Close the file instance\n",
        "\n",
        "      f.close()\n",
        "\n",
        "    This will close the instance of the file file1.txt stored\n"
      ]
    },
    {
      "cell_type": "code",
      "metadata": {
        "colab": {
          "base_uri": "https://localhost:8080/"
        },
        "id": "D7uKCwM6d56A",
        "outputId": "98ec5369-8d37-4947-a9d8-0e7e37d820c3"
      },
      "source": [
        "f= open(\"file1.txt\",\"w+\")\n",
        "for i in range(10):\n",
        "  f.write(\"This is line %d\\r\\n\" % (i+1))\n",
        "  print(i)\n",
        "f.close()"
      ],
      "execution_count": null,
      "outputs": [
        {
          "output_type": "stream",
          "name": "stdout",
          "text": [
            "0\n",
            "1\n",
            "2\n",
            "3\n",
            "4\n",
            "5\n",
            "6\n",
            "7\n",
            "8\n",
            "9\n"
          ]
        }
      ]
    },
    {
      "cell_type": "markdown",
      "metadata": {
        "id": "iJwrZ78QeLKA"
      },
      "source": [
        "# How to Append to a File in Python\n",
        "\n",
        "You can also append/add a new text to the already existing file or a new file.\n",
        "\n",
        "*  Step 1)\n",
        "\n",
        "   f=open(\"file1.txt\", \"a+\")\n",
        "\n",
        "Once again if you could see a plus sign in the code, it indicates that it will create a new file if it does not exist. But in our case we already have the file, so we are not required to create a new file for Python append to file operation.\n",
        "\n",
        "*  Step 2)\n",
        "\n",
        "    for i in range(2):\n",
        "     f.write(\"Appended line %d\\r\\n\" % (i+1))\n",
        "\n",
        "This will write data into the file in append mode.\n",
        "\n"
      ]
    },
    {
      "cell_type": "code",
      "metadata": {
        "colab": {
          "base_uri": "https://localhost:8080/"
        },
        "id": "6Tu12udremuq",
        "outputId": "4e1a45c0-094f-4a74-cc9d-5422f49bf51a"
      },
      "source": [
        "f=open(\"file1.txt\", \"a+\")\n",
        "for i in range(2):\n",
        "  f.write(\"Appended line %d\\r\\n\" % (i+1))\n",
        "  #print(i)\n",
        "  \n",
        "f=open(\"file1.txt\", \"r\")\n",
        "if f.mode == 'r':\n",
        "  contents =f.read()\n",
        "print(contents)\n",
        "f.close()\n"
      ],
      "execution_count": null,
      "outputs": [
        {
          "output_type": "stream",
          "name": "stdout",
          "text": [
            "This is line 1\n",
            "This is line 2\n",
            "This is line 3\n",
            "This is line 4\n",
            "This is line 5\n",
            "This is line 6\n",
            "This is line 7\n",
            "This is line 8\n",
            "This is line 9\n",
            "This is line 10\n",
            "Appended line 1\n",
            "Appended line 2\n",
            "\n"
          ]
        }
      ]
    },
    {
      "cell_type": "markdown",
      "metadata": {
        "id": "n5iYY7age4wS"
      },
      "source": [
        "# How to Read Files in Python\n",
        "\n",
        "You can read a file in Python by calling .txt file in a “read mode”(r).\n",
        "\n",
        "*  Step 1) Open the file in Read mode\n",
        "\n",
        "   f=open(\"file1.txt\", \"r\")\n",
        "\n",
        "*  Step 2) We use the mode function in the code to check that the file is in open mode. If yes, we proceed ahead\n",
        "\n",
        "  if f.mode == 'r':\n",
        "\n",
        "*  Step 3) Use f.read to read file data and store it in variable content for reading files in Python\n",
        "\n",
        "    contents =f.read()\n",
        "\n",
        "*  Step 4) Print contents for Python read text file\n",
        "\n"
      ]
    },
    {
      "cell_type": "code",
      "metadata": {
        "colab": {
          "base_uri": "https://localhost:8080/"
        },
        "id": "KXKn-gDyfKNa",
        "outputId": "b9fc2bf7-3aea-4232-80d9-74c914386b2e"
      },
      "source": [
        "f=open(\"file1.txt\", \"r\")\n",
        "if f.mode == 'r':\n",
        "  contents =f.read()\n",
        "print(contents)\n"
      ],
      "execution_count": null,
      "outputs": [
        {
          "output_type": "stream",
          "name": "stdout",
          "text": [
            "This is line 1\n",
            "This is line 2\n",
            "This is line 3\n",
            "This is line 4\n",
            "This is line 5\n",
            "This is line 6\n",
            "This is line 7\n",
            "This is line 8\n",
            "This is line 9\n",
            "This is line 10\n",
            "\n"
          ]
        }
      ]
    },
    {
      "cell_type": "markdown",
      "metadata": {
        "id": "nMjq3-WtdpnT"
      },
      "source": [
        ""
      ]
    },
    {
      "cell_type": "markdown",
      "metadata": {
        "id": "6R6HgA3Jf7Xf"
      },
      "source": [
        "# How to Read a File line by line in Python\n",
        "\n",
        "*  You can also read your .txt file line by line if your data is too big to read. readlines() code will segregate your data in easy to read mode.\n",
        "\n",
        "*  When you run the code (f1=f.readlines()) to read file line by line in Python, it will separate each line and present the file in a readable format. In our case the line is short and readable, the output will look similar to the read mode. But if there is a complex data file which is not readable, this piece of code could be useful.\n"
      ]
    },
    {
      "cell_type": "code",
      "metadata": {
        "colab": {
          "base_uri": "https://localhost:8080/"
        },
        "id": "Hw66jTOkgGMx",
        "outputId": "10b3f8fe-da9d-444c-8071-8ad6202a2562"
      },
      "source": [
        "def main():\n",
        "  f=open(\"file1.txt\", \"r\")\n",
        "  f1=f.readline()\n",
        "  for x in f1:\n",
        "    print(x)\n",
        "\n",
        "if __name__== \"__main__\":\n",
        "  main()"
      ],
      "execution_count": null,
      "outputs": [
        {
          "output_type": "stream",
          "name": "stdout",
          "text": [
            "T\n",
            "h\n",
            "i\n",
            "s\n",
            " \n",
            "i\n",
            "s\n",
            " \n",
            "l\n",
            "i\n",
            "n\n",
            "e\n",
            " \n",
            "1\n",
            "\n",
            "\n"
          ]
        }
      ]
    },
    {
      "cell_type": "markdown",
      "metadata": {
        "id": "6NAw0irkk4k8"
      },
      "source": [
        "# Printing the contents of a file (other way)"
      ]
    },
    {
      "cell_type": "code",
      "metadata": {
        "id": "pzsEI359kiDn"
      },
      "source": [
        "f=open(\"file1.txt\", \"r\")\n",
        "#f.write('This is a test\\n')\n",
        "for line in f:\n",
        "  print(line, end='')\n",
        "\n"
      ],
      "execution_count": null,
      "outputs": []
    },
    {
      "cell_type": "code",
      "metadata": {
        "colab": {
          "base_uri": "https://localhost:8080/"
        },
        "id": "mSorZrxUhU93",
        "outputId": "fb0040c7-8aa4-4d14-e171-3d1386d39b6f"
      },
      "source": [
        "# Here is the complete code for Python print() to File Example\n",
        "\n",
        "def main():\n",
        "     f2= open(\"file2.txt\",\"w+\")\n",
        "     #f=open(\"file1.txt\",\"a+\")\n",
        "     for i in range(10):\n",
        "         f2.write(\"This is line %d\\r\\n\" % (i+1))\n",
        "     f2.close()   \n",
        "     #Open the file back and read the contents\n",
        "     f2=open(\"file2.txt\", \"r\")\n",
        "     if f2.mode == 'r':\n",
        "       contents =f2.read()\n",
        "     print(contents)\n",
        "     f2.close()\n",
        "     #or, readlines reads the individual line into a list\n",
        "     #fl =f.readlines()\n",
        "     #for x in fl:\n",
        "     #print x\n",
        "if __name__== \"__main__\":\n",
        "  main()"
      ],
      "execution_count": null,
      "outputs": [
        {
          "output_type": "stream",
          "name": "stdout",
          "text": [
            "This is line 1\n",
            "This is line 2\n",
            "This is line 3\n",
            "This is line 4\n",
            "This is line 5\n",
            "This is line 6\n",
            "This is line 7\n",
            "This is line 8\n",
            "This is line 9\n",
            "This is line 10\n",
            "\n"
          ]
        }
      ]
    },
    {
      "cell_type": "code",
      "metadata": {
        "colab": {
          "base_uri": "https://localhost:8080/"
        },
        "id": "IwCwA5wbh_Cg",
        "outputId": "230cd6ab-ba6d-4daa-b695-ecc1e90a69c2"
      },
      "source": [
        "# Below is another Python print() to File Example:\n",
        "\n",
        "def main():\n",
        "    #f= open(\"file3.txt\",\"w+\")\n",
        "    f4=open(\"file3.txt\",\"a+\")\n",
        "    for i in range(10):\n",
        "         f4.write(\"This is line %d\\r\\n\" % (i+1))\n",
        "    f4.close()\n",
        "    #Open the file back and read the contents\n",
        "    f4=open(\"file3.txt\", \"r\")\n",
        "    if f4.mode == 'r':\n",
        "      contents =f4.read()\n",
        "    print(contents)\n",
        "    f4.close()\n",
        "    #or, readlines reads the individual line into a list\n",
        "    #fl =f.readlines()\n",
        "    #for x in fl:\n",
        "    #print(x)\n",
        "if __name__== \"__main__\":\n",
        "  main()"
      ],
      "execution_count": null,
      "outputs": [
        {
          "output_type": "stream",
          "name": "stdout",
          "text": [
            "This is line 1\n",
            "This is line 2\n",
            "This is line 3\n",
            "This is line 4\n",
            "This is line 5\n",
            "This is line 6\n",
            "This is line 7\n",
            "This is line 8\n",
            "This is line 9\n",
            "This is line 10\n",
            "This is line 1\n",
            "This is line 2\n",
            "This is line 3\n",
            "This is line 4\n",
            "This is line 5\n",
            "This is line 6\n",
            "This is line 7\n",
            "This is line 8\n",
            "This is line 9\n",
            "This is line 10\n",
            "\n"
          ]
        }
      ]
    },
    {
      "cell_type": "markdown",
      "metadata": {
        "id": "5Qq2KH0ol3-c"
      },
      "source": [
        "# Cursor Positioning Methods\n",
        "\n",
        "Python has a couple of essential methods for the positioning of the cursor in our file. The methods are as follows:\n",
        "\n",
        "*   f.tell() returns an integer giving the file object’s current position in the file represented as number of bytes from the beginning of the file when in binary mode and an opaque number when in text mode.\n",
        "*   To change the file object’s position, use f.seek(offset, whence). The position is computed from adding offset to a reference point; the reference point is selected by the whence argument. A whence value of 0 measures from the beginning of the file, 1 uses the current file position, and 2 uses the end of the file as the reference point. whence can be omitted and defaults to 0, using the beginning of the file as the reference point.\n",
        "\n",
        "\n",
        "\n"
      ]
    },
    {
      "cell_type": "code",
      "metadata": {
        "colab": {
          "base_uri": "https://localhost:8080/"
        },
        "id": "ur5YBEHflhFC",
        "outputId": "2aaa2627-35db-4e05-8a8a-bc32a02bc110"
      },
      "source": [
        "f = open('file1.txt', 'rb+')\n",
        "f.write(b'0123456789abcdef')\n",
        "\n",
        "f.seek(5)      # Go to the 6th byte in the file\n",
        "\n",
        "f.read(1)\n",
        "\n",
        "f.seek(-3, 2)  # Go to the 3rd byte before the end\n",
        "\n",
        "f.read(1)"
      ],
      "execution_count": null,
      "outputs": [
        {
          "output_type": "execute_result",
          "data": {
            "text/plain": [
              "b'd'"
            ]
          },
          "metadata": {},
          "execution_count": 26
        }
      ]
    },
    {
      "cell_type": "markdown",
      "metadata": {
        "id": "ePLeRtbC-fTF"
      },
      "source": [
        "The seek() function sets the position of a file pointer and the tell() function returns the current position of a file pointer."
      ]
    },
    {
      "cell_type": "code",
      "metadata": {
        "id": "btrZt5yz--JF"
      },
      "source": [
        "# open file for reading and writing  r+\n",
        "with open(r'E:\\demos\\files_demos\\test.txt', \"r+\") as fp:\n",
        "    # Moving the file handle to the end of the file\n",
        "    fp.seek(0, 2)\n",
        "\n",
        "    # getting the file handle position\n",
        "    print('file handle at:', fp.tell())\n",
        "\n",
        "    # writing new content\n",
        "    fp.write(\"\\nDemonstrating tell\")\n",
        "\n",
        "    # getting the file handle position\n",
        "    print('file handle at:', fp.tell())\n",
        "\n",
        "    # move to the beginning\n",
        "    fp.seek(0)\n",
        "    # getting the file handle position\n",
        "    print('file handle at:', fp.tell())\n",
        "\n",
        "    # read entire file\n",
        "    print('***Printing File Content***')\n",
        "    print(fp.read())\n",
        "    print('***Done***')\n",
        "\n",
        "    # getting the file handle position\n",
        "    print('file handle at:', fp.tell())"
      ],
      "execution_count": null,
      "outputs": []
    },
    {
      "cell_type": "markdown",
      "metadata": {
        "id": "kEdcDMAa-y07"
      },
      "source": [
        "# Note:\n",
        "\n",
        "If your using seek() function in text files (those opened without a b in the access mode), only seeks relative to the beginning of the file are allowed.\n",
        "\n",
        "If you try to move the file handle from the current position you’ll get an io.UnsupportedOperation: can't do nonzero cur-relative seeks error.\n",
        "\n",
        "So open the file in binary mode if you want to move the file pointer ahead or behind from the current position"
      ]
    },
    {
      "cell_type": "markdown",
      "metadata": {
        "id": "49iXIB5anW2Q"
      },
      "source": [
        "# Truncating a File\n",
        "\n",
        "Truncating a File is also possible in Python. By using the .truncate() method, we can truncate the file up to the desired length. Let’s understand this with an example:\n"
      ]
    },
    {
      "cell_type": "code",
      "metadata": {
        "id": "GCbJ8Sq-na1x"
      },
      "source": [
        "file = open('myfile.txt', 'w')\n",
        "file.truncate(10)\n",
        "file.close()"
      ],
      "execution_count": null,
      "outputs": []
    },
    {
      "cell_type": "markdown",
      "metadata": {
        "id": "BkVHx5JqnigG"
      },
      "source": [
        "# Renaming a File\n",
        "\n",
        "Renaming a file in Python can be done using the os Module and needed to be imported to perform such tasks. The os module in Python has a vast collection of methods to perform all the essential file management tasks in Python itself.\n",
        "\n",
        "To rename our file, we will use the .rename() method from the os module. The .rename() method takes two arguments:\n",
        "\n",
        "1. The current file name, passed as a string type.\n",
        "\n",
        "2. The renamed file name, to be passed as a string type.\n",
        "\n",
        "Let’s understand this with an example."
      ]
    },
    {
      "cell_type": "code",
      "metadata": {
        "id": "1IU_kLednlsS"
      },
      "source": [
        "import os \n",
        "os.rename('myfile.txt', 'ourfile.txt')"
      ],
      "execution_count": null,
      "outputs": []
    },
    {
      "cell_type": "markdown",
      "metadata": {
        "id": "NEjJdDEcnw_K"
      },
      "source": [
        "# Deleting a File\n",
        "\n",
        "We can remove the files from a directory using Python’s versatile os module. The os module has a method .remove() which performs the task. The .remove() method takes a single argument as string type which is our file name. Let’s understated this with an example.\n"
      ]
    },
    {
      "cell_type": "code",
      "metadata": {
        "colab": {
          "base_uri": "https://localhost:8080/",
          "height": 202
        },
        "id": "wa9_WndGn0q2",
        "outputId": "592dd93e-04f3-45ff-ed41-679372d93b41"
      },
      "source": [
        "import os\n",
        "os.remove('myfile.txt')\n",
        "file = open('myfile.txt', 'r')"
      ],
      "execution_count": null,
      "outputs": [
        {
          "output_type": "error",
          "ename": "FileNotFoundError",
          "evalue": "ignored",
          "traceback": [
            "\u001b[0;31m---------------------------------------------------------------------------\u001b[0m",
            "\u001b[0;31mFileNotFoundError\u001b[0m                         Traceback (most recent call last)",
            "\u001b[0;32m<ipython-input-29-c4ab3da957ae>\u001b[0m in \u001b[0;36m<module>\u001b[0;34m()\u001b[0m\n\u001b[1;32m      1\u001b[0m \u001b[0;32mimport\u001b[0m \u001b[0mos\u001b[0m\u001b[0;34m\u001b[0m\u001b[0;34m\u001b[0m\u001b[0m\n\u001b[0;32m----> 2\u001b[0;31m \u001b[0mos\u001b[0m\u001b[0;34m.\u001b[0m\u001b[0mremove\u001b[0m\u001b[0;34m(\u001b[0m\u001b[0;34m'myfile.txt'\u001b[0m\u001b[0;34m)\u001b[0m\u001b[0;34m\u001b[0m\u001b[0;34m\u001b[0m\u001b[0m\n\u001b[0m\u001b[1;32m      3\u001b[0m \u001b[0mfile\u001b[0m \u001b[0;34m=\u001b[0m \u001b[0mopen\u001b[0m\u001b[0;34m(\u001b[0m\u001b[0;34m'myfile.txt'\u001b[0m\u001b[0;34m,\u001b[0m \u001b[0;34m'r'\u001b[0m\u001b[0;34m)\u001b[0m\u001b[0;34m\u001b[0m\u001b[0;34m\u001b[0m\u001b[0m\n",
            "\u001b[0;31mFileNotFoundError\u001b[0m: [Errno 2] No such file or directory: 'myfile.txt'"
          ]
        }
      ]
    },
    {
      "cell_type": "markdown",
      "metadata": {
        "id": "14x0MKcen-sl"
      },
      "source": [
        "# A Practical Example\n",
        "\n",
        "Now we understood all the operations individually, we must now understand how these functions work together in a general file management task. In the following example, we will understand how these methods are used and in which order would help one performing any file operation task on its own. An important thing to note is every time before shifting from writing into a file to read from file and vice versa, one must close the current file opened in a specific mode & open it again in the mode we want. Now, let us move to the example:\n"
      ]
    },
    {
      "cell_type": "code",
      "metadata": {
        "colab": {
          "base_uri": "https://localhost:8080/"
        },
        "id": "UTXlvzpDoD2a",
        "outputId": "4b4b4d93-29a8-4355-da47-befe58b04739"
      },
      "source": [
        "file = open(\"myfile.txt\", 'w')\n",
        "file.write(\"This is the Practical Example. It performs reading, writing and closing operations of file\")\n",
        "file.close()\n",
        "\n",
        "file = open(\"myfile.txt\", 'r')\n",
        "print(file.read(10))\n",
        "file.seek(7)\n",
        "print(file.tell())\n",
        "\n",
        "print(file.readlines())\n",
        "file.seek(0)\n",
        "print(file.readline())\n",
        "file.close()"
      ],
      "execution_count": null,
      "outputs": [
        {
          "output_type": "stream",
          "name": "stdout",
          "text": [
            "This is th\n",
            "<built-in method tell of _io.TextIOWrapper object at 0x7f52be3b14b0>\n",
            "[' the Practical Example. It performs reading, writing and closing operations of file']\n",
            "This is the Practical Example. It performs reading, writing and closing operations of file\n"
          ]
        }
      ]
    },
    {
      "cell_type": "markdown",
      "metadata": {
        "id": "tIpJv5b2pPCR"
      },
      "source": [
        "# Program to copy the contents of one file into another file. \n",
        "\n"
      ]
    },
    {
      "cell_type": "code",
      "metadata": {
        "colab": {
          "base_uri": "https://localhost:8080/"
        },
        "id": "uDVcZ36DpZZc",
        "outputId": "ce69549f-2058-4e54-a571-d15e560cece8"
      },
      "source": [
        "#f = open(\"myfile.txt\", 'w+')\n",
        "with open(\"myfile.txt\") as f:\n",
        "  with open(\"out.txt\", \"w\") as f1:\n",
        "    for line in f:\n",
        "      f1.write(line)\n",
        "      print(line)"
      ],
      "execution_count": null,
      "outputs": [
        {
          "output_type": "stream",
          "name": "stdout",
          "text": [
            "This is the Practical Example. It performs reading, writing and closing operations of file\n"
          ]
        }
      ]
    },
    {
      "cell_type": "markdown",
      "metadata": {
        "id": "GjtNGKv5qGiJ"
      },
      "source": [
        "# To read the contents of the file in reverse order. "
      ]
    },
    {
      "cell_type": "code",
      "metadata": {
        "colab": {
          "base_uri": "https://localhost:8080/",
          "height": 219
        },
        "id": "fi5uLzlzqLnm",
        "outputId": "9002980b-338d-4327-a439-86d86dcd2f6e"
      },
      "source": [
        "filename=input(\"Enter file name: \")\n",
        "for line in reversed(list(open(filename))):\n",
        "    print(line.rstrip())"
      ],
      "execution_count": null,
      "outputs": [
        {
          "name": "stdout",
          "output_type": "stream",
          "text": [
            "Enter file name: myfile\n"
          ]
        },
        {
          "output_type": "error",
          "ename": "FileNotFoundError",
          "evalue": "ignored",
          "traceback": [
            "\u001b[0;31m---------------------------------------------------------------------------\u001b[0m",
            "\u001b[0;31mFileNotFoundError\u001b[0m                         Traceback (most recent call last)",
            "\u001b[0;32m<ipython-input-41-169d59c38ffc>\u001b[0m in \u001b[0;36m<module>\u001b[0;34m()\u001b[0m\n\u001b[1;32m      1\u001b[0m \u001b[0mfilename\u001b[0m\u001b[0;34m=\u001b[0m\u001b[0minput\u001b[0m\u001b[0;34m(\u001b[0m\u001b[0;34m\"Enter file name: \"\u001b[0m\u001b[0;34m)\u001b[0m\u001b[0;34m\u001b[0m\u001b[0;34m\u001b[0m\u001b[0m\n\u001b[0;32m----> 2\u001b[0;31m \u001b[0;32mfor\u001b[0m \u001b[0mline\u001b[0m \u001b[0;32min\u001b[0m \u001b[0mreversed\u001b[0m\u001b[0;34m(\u001b[0m\u001b[0mlist\u001b[0m\u001b[0;34m(\u001b[0m\u001b[0mopen\u001b[0m\u001b[0;34m(\u001b[0m\u001b[0mfilename\u001b[0m\u001b[0;34m)\u001b[0m\u001b[0;34m)\u001b[0m\u001b[0;34m)\u001b[0m\u001b[0;34m:\u001b[0m\u001b[0;34m\u001b[0m\u001b[0;34m\u001b[0m\u001b[0m\n\u001b[0m\u001b[1;32m      3\u001b[0m     \u001b[0mprint\u001b[0m\u001b[0;34m(\u001b[0m\u001b[0mline\u001b[0m\u001b[0;34m.\u001b[0m\u001b[0mrstrip\u001b[0m\u001b[0;34m(\u001b[0m\u001b[0;34m)\u001b[0m\u001b[0;34m)\u001b[0m\u001b[0;34m\u001b[0m\u001b[0;34m\u001b[0m\u001b[0m\n",
            "\u001b[0;31mFileNotFoundError\u001b[0m: [Errno 2] No such file or directory: 'myfile'"
          ]
        }
      ]
    },
    {
      "cell_type": "markdown",
      "metadata": {
        "id": "B9NaBr-ytMTf"
      },
      "source": [
        "# count the number of words in a text file. "
      ]
    },
    {
      "cell_type": "code",
      "metadata": {
        "colab": {
          "base_uri": "https://localhost:8080/"
        },
        "id": "cMYmxNRttGx3",
        "outputId": "546b48b8-fdd8-4aef-b2d9-09baf525bf27"
      },
      "source": [
        "fname = input(\"Enter file name: \")\n",
        " \n",
        "#num_words = 0\n",
        " \n",
        "with open(fname, 'r') as f:\n",
        "  for line in f:\n",
        "    words = line.split()\n",
        "    num_words += len(words)\n",
        "print(\"Number of words:\")\n",
        "print(num_words)"
      ],
      "execution_count": null,
      "outputs": [
        {
          "output_type": "stream",
          "name": "stdout",
          "text": [
            "Enter file name: myfile.txt\n",
            "Number of words:\n",
            "0\n"
          ]
        }
      ]
    },
    {
      "cell_type": "markdown",
      "metadata": {
        "id": "9ptdZVlnuHDk"
      },
      "source": [
        "# Python Program that reads a file and capitalizes the first letter of every word in the file. "
      ]
    },
    {
      "cell_type": "code",
      "metadata": {
        "colab": {
          "base_uri": "https://localhost:8080/"
        },
        "id": "5G-g0ipBuPBs",
        "outputId": "3d442ed6-deef-41fd-d7d9-ca86ad69fdfd"
      },
      "source": [
        "fname = input(\"Enter file name: \")\n",
        " \n",
        "with open(fname, 'r') as f:\n",
        "    for line in f:\n",
        "        l=line.title()\n",
        "        print(l)"
      ],
      "execution_count": null,
      "outputs": [
        {
          "name": "stdout",
          "output_type": "stream",
          "text": [
            "Enter file name: myfile.txt\n"
          ]
        }
      ]
    },
    {
      "cell_type": "markdown",
      "metadata": {
        "id": "ySi_BOe_jQWl"
      },
      "source": [
        "# Summary\n",
        "\n",
        "    *  Python allows you to read, write and delete files\n",
        "    *  Use the function open(“filename”,”w+”) for Python create text file. The + tells the python interpreter for Python open text file with read and write permissions.\n",
        "    *  To append data to an existing file or Python print to file operation, use the command open(“Filename”, “a“)\n",
        "    *  Use the Python read from file function to read the ENTIRE contents of a file\n",
        "    *  Use the readlines function to read the content of the file one by one.\n"
      ]
    }
  ]
}